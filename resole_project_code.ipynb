{
  "cells": [
    {
      "cell_type": "code",
      "execution_count": 6,
      "metadata": {
        "colab": {
          "base_uri": "https://localhost:8080/"
        },
        "id": "MSfu3KEuN2A_",
        "outputId": "e5d618ea-5135-4675-a5e1-4da23462aecb"
      },
      "outputs": [
        {
          "name": "stdout",
          "output_type": "stream",
          "text": [
            "  Regional gross disposable household income (GDHI): all ITL regions\n",
            "0  Gross disposable household income (GDHI) is th...                \n",
            "1  Components of GDHI\\nThe allocation of primary ...                \n",
            "2  The secondary distribution of income account r...                \n",
            "3                  Notes, units and provisional data                \n",
            "4  Regional GDHI estimates are produced in curren...                \n",
            "                     Region  GDHI per head (£)  GDHI Index (UK=100)\n",
            "0      North East (England)              18388                 80.7\n",
            "1                     Wales              18652                 81.8\n",
            "2          Northern Ireland              18685                 82.0\n",
            "3        Yorkshire & Humber              19249                 84.5\n",
            "4       West Midlands (Eng)              19480                 85.5\n",
            "5      North West (England)              19752                 86.7\n",
            "6   East Midlands (England)              19879                 87.2\n",
            "7                  Scotland              20854                 91.5\n",
            "8      South West (England)              22612                 99.2\n",
            "9           East of England              23661                103.8\n",
            "10     South East (England)              26058                114.3\n",
            "11                   London              32330                141.9\n",
            "12               UK Average              22800                100.0\n"
          ]
        }
      ],
      "source": [
        "import pandas as pd\n",
        "\n",
        "\n",
        "dataset_path = '/content/regionalgrossdisposablehouseholdincomeallitlregions20221.xlsx'  # Update this path as needed\n",
        "gdhi_df = pd.read_excel(dataset_path) # Changed pd.read_csv to pd.read_excel to handle Excel files.\n",
        "\n",
        "\n",
        "data = {\n",
        "    \"Region\": [\n",
        "        \"North East (England)\", \"Wales\", \"Northern Ireland\", \"Yorkshire & Humber\",\n",
        "        \"West Midlands (Eng)\", \"North West (England)\", \"East Midlands (England)\",\n",
        "        \"Scotland\", \"South West (England)\", \"East of England\",\n",
        "        \"South East (England)\", \"London\", \"UK Average\"\n",
        "    ],\n",
        "    \"GDHI per head (£)\": [\n",
        "        18388, 18652, 18685, 19249, 19480, 19752, 19879, 20854, 22612,\n",
        "        23661, 26058, 32330, 22800\n",
        "    ],\n",
        "    \"GDHI Index (UK=100)\": [\n",
        "        80.7, 81.8, 82.0, 84.5, 85.5, 86.7, 87.2, 91.5, 99.2,\n",
        "        103.8, 114.3, 141.9, 100\n",
        "    ]\n",
        "}\n",
        "\n",
        "\n",
        "gdhi_manual_df = pd.DataFrame(data)\n",
        "\n",
        "# Display the dataset\n",
        "print(gdhi_df.head())  # Display first few rows from the imported dataset\n",
        "print(gdhi_manual_df)  # Display manually created dataset\n",
        "\n",
        "\n",
        "gdhi_manual_df.to_csv(\"gdhi_table.csv\", index=False)"
      ]
    }
  ],
  "metadata": {
    "colab": {
      "provenance": []
    },
    "kernelspec": {
      "display_name": "Python 3",
      "name": "python3"
    },
    "language_info": {
      "name": "python"
    }
  },
  "nbformat": 4,
  "nbformat_minor": 0
}
